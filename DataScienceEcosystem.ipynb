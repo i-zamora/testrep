{
 "cells": [
  {
   "cell_type": "markdown",
   "id": "9f3dcc9a",
   "metadata": {},
   "source": [
    "# Data Science Tools and Ecosystem"
   ]
  },
  {
   "cell_type": "markdown",
   "id": "5f49ba27",
   "metadata": {},
   "source": [
    "In this notebook, Data Science Tools and Ecosystem are summarized."
   ]
  },
  {
   "cell_type": "markdown",
   "id": "c01ed051",
   "metadata": {},
   "source": [
    "__Objectives:__\n",
    "- List popular languages for Data Science\n",
    "- List popular libraries used by Data Scientists\n",
    "- List open-source tools commonly used by Data Scientists\n",
    "- Code arithmatic calculations"
   ]
  },
  {
   "cell_type": "markdown",
   "id": "a5ed2ed7",
   "metadata": {},
   "source": [
    "Some of the popular languages that Data Scientists use are:\n",
    "1. Python\n",
    "2. SQL\n",
    "3. R\n",
    "4. Visual Basic\n",
    "5. C++\n",
    "6. Java"
   ]
  },
  {
   "cell_type": "markdown",
   "id": "b31cf4e4",
   "metadata": {},
   "source": [
    "Some of the commonly used libraries used by Data Scientists include:\n",
    "1. Scientific Computing libraries in Python\n",
    "2. Visualization libraries in Python\n",
    "3. High-level Machine Learning and Deep Learning libraries\n",
    "4. Scala libraries\n",
    "5. R libraries"
   ]
  },
  {
   "cell_type": "markdown",
   "id": "090e38c8",
   "metadata": {},
   "source": [
    "| Data Science Tools |\n",
    "-------------------------------\n",
    "| RStudio |\n",
    "| Jupyter |\n",
    "| MySQL |"
   ]
  },
  {
   "cell_type": "markdown",
   "id": "3db7a433",
   "metadata": {},
   "source": [
    "### Below are a few examples of evaluating arithmetic expressions in Python"
   ]
  },
  {
   "cell_type": "code",
   "execution_count": null,
   "id": "174af872",
   "metadata": {
    "scrolled": true
   },
   "outputs": [],
   "source": [
    "# This a simple arithmetic expression to mutiply then add integers\n",
    "(3*4)+5"
   ]
  },
  {
   "cell_type": "code",
   "execution_count": null,
   "id": "3114ce68",
   "metadata": {},
   "outputs": [],
   "source": [
    "# This will convert 200 minutes to hours by dividing by 60\n",
    "200/60"
   ]
  },
  {
   "cell_type": "markdown",
   "id": "559828e9",
   "metadata": {},
   "source": [
    "## Author\n",
    "Isaias Zamora"
   ]
  }
 ],
 "metadata": {
  "kernelspec": {
   "display_name": "Python 3 (ipykernel)",
   "language": "python",
   "name": "python3"
  },
  "language_info": {
   "codemirror_mode": {
    "name": "ipython",
    "version": 3
   },
   "file_extension": ".py",
   "mimetype": "text/x-python",
   "name": "python",
   "nbconvert_exporter": "python",
   "pygments_lexer": "ipython3",
   "version": "3.11.7"
  }
 },
 "nbformat": 4,
 "nbformat_minor": 5
}
